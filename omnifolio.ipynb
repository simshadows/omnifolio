{
 "cells": [
  {
   "cell_type": "markdown",
   "metadata": {},
   "source": [
    "# Omnifolio Test Page"
   ]
  },
  {
   "cell_type": "code",
   "execution_count": null,
   "metadata": {},
   "outputs": [],
   "source": [
    "import logging\n",
    "import copy\n",
    "import datetime\n",
    "from fractions import Fraction\n",
    "from decimal import Decimal\n",
    "logging.basicConfig(filename=\"omnifolio.log\", level=logging.INFO)\n",
    "\n",
    "import numpy as np\n",
    "import pandas as pd\n",
    "#import matplotlib.pyplot as plt\n",
    "%matplotlib widget\n",
    "\n",
    "import omnifolio_core as om\n",
    "market = om.MarketDataAggregator()\n",
    "\n",
    "benchmark_symbols = {\"VDHG.AX\", \"IVV.AX\", \"IOZ.AX\"}\n",
    "portfolio = om.PortfolioTracker(benchmark_symbols, update_store=False)"
   ]
  },
  {
   "cell_type": "code",
   "execution_count": null,
   "metadata": {},
   "outputs": [],
   "source": [
    "stats_history = portfolio.get_portfolio_stats_history()\n",
    "\n",
    "stats_history[\"net_profit\"].astype(\"double\").plot()\n",
    "stats_history[\"benchmark_net_profit_VDHG.AX\"].astype(\"double\").plot()\n",
    "\n",
    "##stats_history[\"benchmark_net_profit_IVV.AX\"].astype(\"double\").plot()\n",
    "##stats_history[\"benchmark_net_profit_IOZ.AX\"].astype(\"double\").plot()\n",
    "##((stats_history[\"proportion_net_profit\"].astype(\"double\") * 100) - 100).plot()\n",
    "##(-stats_history[\"all_fees\"].astype(\"double\")).plot()"
   ]
  },
  {
   "cell_type": "code",
   "execution_count": null,
   "metadata": {},
   "outputs": [],
   "source": [
    "x = portfolio.get_current_state_summary(human_readable_strings=True)\n",
    "x"
   ]
  },
  {
   "cell_type": "code",
   "execution_count": null,
   "metadata": {},
   "outputs": [],
   "source": [
    "portfolio.get_aggregate_summary()"
   ]
  },
  {
   "cell_type": "code",
   "execution_count": null,
   "metadata": {},
   "outputs": [],
   "source": [
    "#stats_history"
   ]
  },
  {
   "cell_type": "code",
   "execution_count": null,
   "metadata": {},
   "outputs": [],
   "source": [
    "#dfs = market.stock_timeseries_daily([\"ESPO.AX\", \"IVV.AX\", \"IOZ.AX\", \"TSLA\", \"VDHG.AX\"], update_store=False)\n",
    "#dfs_ot = market.stock_timeseries_daily__convert_numerics_to_object_types(dfs)\n",
    "#dfs_sa = market.stock_timeseries_daily__to_splitadjusted(dfs)\n",
    "\n",
    "#df_db = market.stock_timeseries_daily__to_debugging_adjclose(dfs)\n",
    "#summary = market.stock_timeseries_daily__to_adjclose_summary(dfs_ot)\n",
    "\n",
    "#om.YahooFinanceLib().stock_timeseries_daily([\"ESPO.AX\", \"TSLA\", \"IOZ.AX\"])\n",
    "\n",
    "#dfs_ot[\"TSLA\"]\n",
    "#summary"
   ]
  },
  {
   "cell_type": "code",
   "execution_count": null,
   "metadata": {},
   "outputs": [],
   "source": [
    "#dfs_sa[\"TSLA\"][dfs_sa[\"TSLA\"][\"split\"] != 1]"
   ]
  },
  {
   "cell_type": "code",
   "execution_count": null,
   "metadata": {},
   "outputs": [],
   "source": []
  }
 ],
 "metadata": {
  "kernelspec": {
   "display_name": "Python 3",
   "language": "python",
   "name": "python3"
  },
  "language_info": {
   "codemirror_mode": {
    "name": "ipython",
    "version": 3
   },
   "file_extension": ".py",
   "mimetype": "text/x-python",
   "name": "python",
   "nbconvert_exporter": "python",
   "pygments_lexer": "ipython3",
   "version": "3.9.2"
  }
 },
 "nbformat": 4,
 "nbformat_minor": 4
}

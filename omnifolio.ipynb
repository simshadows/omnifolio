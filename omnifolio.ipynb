{
 "cells": [
  {
   "cell_type": "markdown",
   "metadata": {},
   "source": [
    "# Test Page"
   ]
  },
  {
   "cell_type": "code",
   "execution_count": null,
   "metadata": {},
   "outputs": [],
   "source": [
    "import logging\n",
    "logging.basicConfig(level=logging.DEBUG)\n",
    "\n",
    "import numpy as np\n",
    "import pandas as pd\n",
    "\n",
    "import omnifolio_core as om\n",
    "market_data = om.MarketDataAggregator(om.get_config())"
   ]
  },
  {
   "cell_type": "code",
   "execution_count": null,
   "metadata": {},
   "outputs": [],
   "source": [
    "#import time; tmp_start_time = time.time()\n",
    "data = market_data.stock_timeseries_daily_pandas([\"ESPO.AX\", \"TSLA\"])\n",
    "#print(\"Execution time: \" + str(time.time() - tmp_start_time))\n",
    "data"
   ]
  },
  {
   "cell_type": "code",
   "execution_count": null,
   "metadata": {},
   "outputs": [],
   "source": [
    "prices = data[\"ESPO.AX\"][\"prices\"]\n",
    "prices"
   ]
  },
  {
   "cell_type": "code",
   "execution_count": null,
   "metadata": {},
   "outputs": [],
   "source": [
    "prices.dtypes"
   ]
  },
  {
   "cell_type": "code",
   "execution_count": null,
   "metadata": {},
   "outputs": [],
   "source": [
    "import yfinance as yf\n",
    "import datetime\n",
    "import copy"
   ]
  },
  {
   "cell_type": "code",
   "execution_count": null,
   "metadata": {},
   "outputs": [],
   "source": [
    "dat = yf.download(tickers=[\"TSLA\", \"ESPO.AX\"], period=\"max\", interval=\"1d\", group_by=\"ticker\", rounding=True, actions=True)\n",
    "tmp = dat[\"TSLA\"].dropna(axis=\"index\", how=\"all\")\n",
    "tmp"
   ]
  },
  {
   "cell_type": "code",
   "execution_count": null,
   "metadata": {},
   "outputs": [],
   "source": [
    "tmp3 = copy.deepcopy(tmp).sort_index(ascending=True)\n",
    "\n",
    "tmp3.rename(columns={\"Stock Splits\": \"split\"}, inplace=True)\n",
    "\n",
    "cumsplit = np.where(tmp3[\"split\"] == 0, 1, tmp3[\"split\"]).cumprod()\n",
    "latest_split_value = cumsplit[-1]\n",
    "print(latest_split_value)\n",
    "\n",
    "for k in [\"Open\", \"High\", \"Low\", \"Close\", \"Adj Close\", \"Dividends\"]:\n",
    "    tmp3[k] *= (latest_split_value / cumsplit)\n",
    "tmp3[\"Volume\"] /= (latest_split_value / cumsplit)\n",
    "tmp3#[tmp3.index > np.datetime64(datetime.date(2020,8,26))]"
   ]
  }
 ],
 "metadata": {
  "kernelspec": {
   "display_name": "Python 3",
   "language": "python",
   "name": "python3"
  },
  "language_info": {
   "codemirror_mode": {
    "name": "ipython",
    "version": 3
   },
   "file_extension": ".py",
   "mimetype": "text/x-python",
   "name": "python",
   "nbconvert_exporter": "python",
   "pygments_lexer": "ipython3",
   "version": "3.9.1"
  }
 },
 "nbformat": 4,
 "nbformat_minor": 4
}

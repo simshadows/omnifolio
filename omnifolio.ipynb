{
 "cells": [
  {
   "cell_type": "markdown",
   "metadata": {},
   "source": [
    "# Test Page"
   ]
  },
  {
   "cell_type": "code",
   "execution_count": null,
   "metadata": {},
   "outputs": [],
   "source": [
    "import copy\n",
    "import datetime\n",
    "import logging\n",
    "logging.basicConfig(level=logging.DEBUG)\n",
    "\n",
    "import numpy as np\n",
    "import pandas as pd\n",
    "\n",
    "import yfinance as yf\n",
    "\n",
    "import omnifolio_core as om\n",
    "market_data = om.MarketDataAggregator(om.get_config())"
   ]
  },
  {
   "cell_type": "code",
   "execution_count": null,
   "metadata": {},
   "outputs": [],
   "source": [
    "df = market_data.stock_timeseries_daily([\"ESPO.AX\", \"TSLA\", \"IOZ.AX\"])\n",
    "\n",
    "import omnifolio_core.market_data_providers.yahoo_finance_lib as omyf\n",
    "#df = omyf.YahooFinanceLib().stock_timeseries_daily([\"ESPO.AX\", \"TSLA\", \"IOZ.AX\"])\n",
    "\n",
    "df[\"TSLA\"]"
   ]
  },
  {
   "cell_type": "code",
   "execution_count": null,
   "metadata": {},
   "outputs": [],
   "source": [
    "#dat = yf.download(tickers=[\"TSLA\", \"ESPO.AX\"], period=\"max\", interval=\"1d\", group_by=\"ticker\", rounding=True, actions=True)\n",
    "#tmp = dat[\"TSLA\"].dropna(axis=\"index\", how=\"all\")\n",
    "#tmp"
   ]
  },
  {
   "cell_type": "code",
   "execution_count": null,
   "metadata": {},
   "outputs": [],
   "source": [
    "tmp3 = df[\"TSLA\"][[\"open\", \"high\", \"low\", \"close\", \"split\"]]\n",
    "tmp3#[tmp3.index > np.datetime64(datetime.date(2020,8,26))]"
   ]
  },
  {
   "cell_type": "code",
   "execution_count": null,
   "metadata": {},
   "outputs": [],
   "source": [
    "df[\"ESPO.AX\"].dtypes"
   ]
  },
  {
   "cell_type": "code",
   "execution_count": null,
   "metadata": {},
   "outputs": [],
   "source": [
    "np.datetime64(datetime.datetime(2021, 2, 22).date())"
   ]
  },
  {
   "cell_type": "code",
   "execution_count": null,
   "metadata": {},
   "outputs": [],
   "source": [
    "df[\"IOZ.AX\"].loc[np.datetime64(datetime.datetime(2021, 2, 22).date())]"
   ]
  },
  {
   "cell_type": "code",
   "execution_count": null,
   "metadata": {},
   "outputs": [],
   "source": []
  }
 ],
 "metadata": {
  "kernelspec": {
   "display_name": "Python 3",
   "language": "python",
   "name": "python3"
  },
  "language_info": {
   "codemirror_mode": {
    "name": "ipython",
    "version": 3
   },
   "file_extension": ".py",
   "mimetype": "text/x-python",
   "name": "python",
   "nbconvert_exporter": "python",
   "pygments_lexer": "ipython3",
   "version": "3.9.1"
  }
 },
 "nbformat": 4,
 "nbformat_minor": 4
}

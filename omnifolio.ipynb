{
 "cells": [
  {
   "cell_type": "markdown",
   "metadata": {},
   "source": [
    "# Test Page"
   ]
  },
  {
   "cell_type": "code",
   "execution_count": null,
   "metadata": {},
   "outputs": [],
   "source": [
    "import logging\n",
    "import copy\n",
    "import datetime\n",
    "logging.basicConfig(level=logging.INFO)\n",
    "\n",
    "import numpy as np\n",
    "import pandas as pd\n",
    "#import matplotlib\n",
    "import matplotlib.pyplot as plt\n",
    "import yfinance as yf\n",
    "%matplotlib widget\n",
    "\n",
    "import omnifolio_core as om\n",
    "market = om.MarketDataAggregator()\n",
    "portfolio = om.PortfolioTracker()"
   ]
  },
  {
   "cell_type": "code",
   "execution_count": null,
   "metadata": {},
   "outputs": [],
   "source": [
    "df = market.stock_timeseries_daily([\"ESPO.AX\", \"IVV.AX\", \"IOZ.AX\", \"TSLA\"], update_store=False)\n",
    "df = market.stock_timeseries_daily__convert_to_splitadjusted(df)\n",
    "\n",
    "import omnifolio_core.market_data_providers.yahoo_finance_lib as omyf\n",
    "#df = omyf.YahooFinanceLib().stock_timeseries_daily([\"ESPO.AX\", \"TSLA\", \"IOZ.AX\"])\n",
    "\n",
    "#df[\"IVV.AX\"]\n",
    "df[\"IVV.AX\"].plot(y=\"close\")"
   ]
  },
  {
   "cell_type": "code",
   "execution_count": null,
   "metadata": {},
   "outputs": [],
   "source": [
    "#dat = yf.download(tickers=[\"TSLA\", \"ESPO.AX\"], period=\"max\", interval=\"1d\", group_by=\"ticker\", rounding=True, actions=True)\n",
    "#tmp = dat[\"TSLA\"].dropna(axis=\"index\", how=\"all\")\n",
    "#tmp"
   ]
  },
  {
   "cell_type": "code",
   "execution_count": null,
   "metadata": {},
   "outputs": [],
   "source": [
    "#sym = yf.Ticker(\"ESPO.AX\")\n",
    "#sym.info"
   ]
  },
  {
   "cell_type": "code",
   "execution_count": null,
   "metadata": {},
   "outputs": [],
   "source": [
    "trades = portfolio.get_trades()\n",
    "trades"
   ]
  },
  {
   "cell_type": "code",
   "execution_count": null,
   "metadata": {},
   "outputs": [],
   "source": [
    "df[\"TSLA\"][df[\"TSLA\"][\"split\"] != 1]"
   ]
  },
  {
   "cell_type": "code",
   "execution_count": null,
   "metadata": {},
   "outputs": [],
   "source": []
  }
 ],
 "metadata": {
  "kernelspec": {
   "display_name": "Python 3",
   "language": "python",
   "name": "python3"
  },
  "language_info": {
   "codemirror_mode": {
    "name": "ipython",
    "version": 3
   },
   "file_extension": ".py",
   "mimetype": "text/x-python",
   "name": "python",
   "nbconvert_exporter": "python",
   "pygments_lexer": "ipython3",
   "version": "3.9.1"
  }
 },
 "nbformat": 4,
 "nbformat_minor": 4
}

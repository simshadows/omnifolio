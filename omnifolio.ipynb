{
 "cells": [
  {
   "cell_type": "markdown",
   "metadata": {},
   "source": [
    "# Test Page"
   ]
  },
  {
   "cell_type": "code",
   "execution_count": null,
   "metadata": {},
   "outputs": [],
   "source": [
    "import logging\n",
    "import copy\n",
    "import datetime\n",
    "logging.basicConfig(level=logging.INFO)\n",
    "\n",
    "import numpy as np\n",
    "import pandas as pd\n",
    "#import matplotlib\n",
    "import matplotlib.pyplot as plt\n",
    "import yfinance as yf\n",
    "%matplotlib widget\n",
    "\n",
    "import omnifolio_core as om\n",
    "market = om.MarketDataAggregator()\n",
    "portfolio = om.PortfolioTracker()"
   ]
  },
  {
   "cell_type": "code",
   "execution_count": null,
   "metadata": {},
   "outputs": [],
   "source": [
    "dfs = market.stock_timeseries_daily([\"ESPO.AX\", \"IVV.AX\", \"IOZ.AX\", \"TSLA\"], update_store=False)\n",
    "dfs_sa = market.stock_timeseries_daily__to_splitadjusted(dfs)\n",
    "df_db = market.stock_timeseries_daily__to_debugging_adjclose(dfs)\n",
    "summary = market.stock_timeseries_daily__to_adjclose_summary(dfs)\n",
    "\n",
    "import omnifolio_core.market_data_providers.yahoo_finance_lib as omyf\n",
    "#df = omyf.YahooFinanceLib().stock_timeseries_daily([\"ESPO.AX\", \"TSLA\", \"IOZ.AX\"])\n",
    "\n",
    "#dfs_sa[\"IVV.AX\"]\n",
    "df_db"
   ]
  },
  {
   "cell_type": "code",
   "execution_count": null,
   "metadata": {},
   "outputs": [],
   "source": [
    "#dfs_sa[\"IVV.AX\"].plot(y=\"close\")\n",
    "summary[\"TSLA\"][\"adjusted_close\"].astype(\"double\").plot()"
   ]
  },
  {
   "cell_type": "code",
   "execution_count": null,
   "metadata": {},
   "outputs": [],
   "source": [
    "summary"
   ]
  },
  {
   "cell_type": "code",
   "execution_count": null,
   "metadata": {},
   "outputs": [],
   "source": [
    "#dat = yf.download(tickers=[\"TSLA\", \"ESPO.AX\"], period=\"max\", interval=\"1d\", group_by=\"ticker\", rounding=True, actions=True)\n",
    "#tmp = dat[\"TSLA\"].dropna(axis=\"index\", how=\"all\")\n",
    "#tmp"
   ]
  },
  {
   "cell_type": "code",
   "execution_count": null,
   "metadata": {},
   "outputs": [],
   "source": [
    "sym = yf.Ticker(\"AUDUSD=X\")\n",
    "sym.info"
   ]
  },
  {
   "cell_type": "code",
   "execution_count": null,
   "metadata": {},
   "outputs": [],
   "source": [
    "dfs_sa[\"TSLA\"][dfs_sa[\"TSLA\"][\"split\"] != 1]"
   ]
  },
  {
   "cell_type": "code",
   "execution_count": null,
   "metadata": {},
   "outputs": [],
   "source": [
    "trades = portfolio.get_trades_as_df()\n",
    "trades"
   ]
  },
  {
   "cell_type": "code",
   "execution_count": null,
   "metadata": {},
   "outputs": [],
   "source": []
  }
 ],
 "metadata": {
  "kernelspec": {
   "display_name": "Python 3",
   "language": "python",
   "name": "python3"
  },
  "language_info": {
   "codemirror_mode": {
    "name": "ipython",
    "version": 3
   },
   "file_extension": ".py",
   "mimetype": "text/x-python",
   "name": "python",
   "nbconvert_exporter": "python",
   "pygments_lexer": "ipython3",
   "version": "3.9.1"
  }
 },
 "nbformat": 4,
 "nbformat_minor": 4
}
